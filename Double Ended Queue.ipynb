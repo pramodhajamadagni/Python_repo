{
 "cells": [
  {
   "cell_type": "code",
   "execution_count": null,
   "id": "55577864",
   "metadata": {},
   "outputs": [],
   "source": [
    "class Queue:\n",
    "    \n",
    "    queue=[]\n",
    "    \n",
    "    def __init__(self,*items):\n",
    "        for item in items:\n",
    "            self.add_to_tail(item)\n",
    "        \n",
    "    def add_to_tail (self,item):\n",
    "        self.queue.append(item)\n",
    "        \n",
    "    def add_to_front(self,item):  #double ended\n",
    "        self.queue.insert(0,item)\n",
    "        \n",
    "    def remove_from_front(self):\n",
    "        if any(self.queue):\n",
    "            print(f\"\\n{self.queue[0]} has been removed from the queue\")\n",
    "            self.queue.remove(self.queue[0])\n",
    "        else:\n",
    "            print(\"queue is empty\")\n",
    "            \n",
    "    def remove_from_tail(self):  #double ended\n",
    "        if any(self.queue):\n",
    "            print(f\"\\n{self.queue[-1]} has been removed from the queue \\n\")\n",
    "            self.queue.pop()\n",
    "        else:\n",
    "            print(\"queue is empty\")\n",
    "        \n",
    "    def show(self):\n",
    "        if any(self.queue):\n",
    "            print(\"\\n\")\n",
    "            for i in self.queue:\n",
    "                print(i)\n",
    "        else:\n",
    "            print(\"queue is empty\")\n",
    "            \n",
    "    def peek(self):\n",
    "        if any(self.queue):\n",
    "            print(f\"\\n{self.queue[0]} is the in the head of the queue\")\n",
    "        else:\n",
    "            print(\"queue is empty\")"
   ]
  }
 ],
 "metadata": {
  "kernelspec": {
   "display_name": "Python 3 (ipykernel)",
   "language": "python",
   "name": "python3"
  },
  "language_info": {
   "codemirror_mode": {
    "name": "ipython",
    "version": 3
   },
   "file_extension": ".py",
   "mimetype": "text/x-python",
   "name": "python",
   "nbconvert_exporter": "python",
   "pygments_lexer": "ipython3",
   "version": "3.11.5"
  }
 },
 "nbformat": 4,
 "nbformat_minor": 5
}
