{
 "cells": [
  {
   "cell_type": "code",
   "execution_count": null,
   "id": "4f040cf2",
   "metadata": {},
   "outputs": [],
   "source": [
    "class singleton:\n",
    "    \n",
    "    instance_counter=0\n",
    "    \n",
    "    def __init__(self,data):\n",
    "        \n",
    "        if singleton.instance_counter==0:\n",
    "            self.data=data\n",
    "            singleton.instance_counter+=1"
   ]
  }
 ],
 "metadata": {
  "kernelspec": {
   "display_name": "Python 3 (ipykernel)",
   "language": "python",
   "name": "python3"
  },
  "language_info": {
   "codemirror_mode": {
    "name": "ipython",
    "version": 3
   },
   "file_extension": ".py",
   "mimetype": "text/x-python",
   "name": "python",
   "nbconvert_exporter": "python",
   "pygments_lexer": "ipython3",
   "version": "3.11.5"
  }
 },
 "nbformat": 4,
 "nbformat_minor": 5
}
