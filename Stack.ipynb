{
 "cells": [
  {
   "cell_type": "code",
   "execution_count": null,
   "id": "53030f83",
   "metadata": {},
   "outputs": [],
   "source": [
    "class Stack:\n",
    "    \n",
    "    stack=[]\n",
    "    \n",
    "    def __init__(self,*items):\n",
    "        for item in items:\n",
    "            #self.item=item\n",
    "            self.push(item)\n",
    "        \n",
    "    def push(self,item):\n",
    "        self.stack.append(item)\n",
    "        \n",
    "    def show(self):\n",
    "        print(self.stack)\n",
    "        \n",
    "    def pop(self):\n",
    "        if any(self.stack):\n",
    "            print(f\"{self.stack[-1]} has been removed from the stack\")\n",
    "            self.stack.pop()\n",
    "        else:\n",
    "            print(\"no items to pop\")"
   ]
  }
 ],
 "metadata": {
  "kernelspec": {
   "display_name": "Python 3 (ipykernel)",
   "language": "python",
   "name": "python3"
  },
  "language_info": {
   "codemirror_mode": {
    "name": "ipython",
    "version": 3
   },
   "file_extension": ".py",
   "mimetype": "text/x-python",
   "name": "python",
   "nbconvert_exporter": "python",
   "pygments_lexer": "ipython3",
   "version": "3.11.5"
  }
 },
 "nbformat": 4,
 "nbformat_minor": 5
}
