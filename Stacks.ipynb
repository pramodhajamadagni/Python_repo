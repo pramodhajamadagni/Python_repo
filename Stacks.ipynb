{
 "cells": [
  {
   "cell_type": "code",
   "execution_count": 1,
   "id": "ad3ffc4b",
   "metadata": {},
   "outputs": [
    {
     "name": "stdout",
     "output_type": "stream",
     "text": [
      "['abc', 'def', 'tre']\n",
      "tre has been removed from the stack\n",
      "['abc', 'def', 123]\n"
     ]
    }
   ],
   "source": [
    "class Stack:\n",
    "    \n",
    "    #class variable\n",
    "    stack=[]\n",
    "    \n",
    "    def __init__(self,*items):\n",
    "        for item in items:\n",
    "            #self.item=item\n",
    "            self.push(item)\n",
    "        \n",
    "    def push(self,item):\n",
    "        self.stack.append(item)\n",
    "        \n",
    "    def show(self):\n",
    "        print(self.stack)\n",
    "        \n",
    "    def pop(self):\n",
    "        if any(self.stack):\n",
    "            print(f\"{self.stack[-1]} has been removed from the stack\")\n",
    "            self.stack.pop()\n",
    "        else:\n",
    "            print(\"no items to pop\")\n",
    "        \n",
    "\n",
    "s1=Stack(\"abc\",\"def\",\"tre\")\n",
    "s1.show()\n",
    "s1.pop()\n",
    "s1.push(123)\n",
    "s1.show()\n",
    "        "
   ]
  },
  {
   "cell_type": "code",
   "execution_count": 7,
   "id": "d1172020",
   "metadata": {},
   "outputs": [
    {
     "data": {
      "text/plain": [
       "[1, 2, 3]"
      ]
     },
     "execution_count": 7,
     "metadata": {},
     "output_type": "execute_result"
    }
   ],
   "source": [
    "a=[1,2,3,4]\n",
    "a.pop()\n",
    "a"
   ]
  },
  {
   "cell_type": "code",
   "execution_count": 8,
   "id": "183d5e2f",
   "metadata": {},
   "outputs": [
    {
     "name": "stdout",
     "output_type": "stream",
     "text": [
      "[2, 3]\n"
     ]
    }
   ],
   "source": [
    "a.remove(a[0])\n",
    "print(a)"
   ]
  },
  {
   "cell_type": "code",
   "execution_count": null,
   "id": "c9c4843f",
   "metadata": {},
   "outputs": [],
   "source": [
    "args = {\"name\":\"\"}"
   ]
  }
 ],
 "metadata": {
  "kernelspec": {
   "display_name": "Python 3 (ipykernel)",
   "language": "python",
   "name": "python3"
  },
  "language_info": {
   "codemirror_mode": {
    "name": "ipython",
    "version": 3
   },
   "file_extension": ".py",
   "mimetype": "text/x-python",
   "name": "python",
   "nbconvert_exporter": "python",
   "pygments_lexer": "ipython3",
   "version": "3.11.5"
  }
 },
 "nbformat": 4,
 "nbformat_minor": 5
}
