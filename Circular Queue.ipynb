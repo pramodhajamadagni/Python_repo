{
 "cells": [
  {
   "cell_type": "code",
   "execution_count": null,
   "id": "d912f86b",
   "metadata": {},
   "outputs": [],
   "source": [
    "class Circular_queue:\n",
    "    \n",
    "    tail=0\n",
    "    queue=[]\n",
    "    \n",
    "    def __init__(self,*args,**size):\n",
    "        self.size = size\n",
    "        for item in args:\n",
    "            self.enqueue(item,size)\n",
    "            self.tail+=1\n",
    "            \n",
    "    def enqueue (self,item,size):\n",
    "        while self.size[\"size\"]>self.tail:\n",
    "            self.queue.append(item)\n",
    "    \n",
    "    def dequeue(self,item):\n",
    "        if len(queue)>0:\n",
    "            print(f\"{queue[0]} has been removed from the queue\")\n",
    "            queue.remove(queue[0])\n",
    "            \n",
    "    def get_front(self):\n",
    "        print(f\"the first element is {queue[0]}\")\n",
    "        \n",
    "    def get_rear(self):\n",
    "         print(f\"the first element is {queue[0]}\")"
   ]
  }
 ],
 "metadata": {
  "kernelspec": {
   "display_name": "Python 3 (ipykernel)",
   "language": "python",
   "name": "python3"
  },
  "language_info": {
   "codemirror_mode": {
    "name": "ipython",
    "version": 3
   },
   "file_extension": ".py",
   "mimetype": "text/x-python",
   "name": "python",
   "nbconvert_exporter": "python",
   "pygments_lexer": "ipython3",
   "version": "3.11.5"
  }
 },
 "nbformat": 4,
 "nbformat_minor": 5
}
