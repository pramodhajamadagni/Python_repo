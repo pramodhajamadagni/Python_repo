{
 "cells": [
  {
   "cell_type": "code",
   "execution_count": null,
   "id": "64f57569",
   "metadata": {},
   "outputs": [],
   "source": [
    "from pytube import YouTube\n",
    "\n",
    "def video_download(video_url,save_path):\n",
    "    try:\n",
    "        yt=YouTube(video_url)\n",
    "    \n",
    "        video_stream=yt.streams.get_highest_resolution()\n",
    "    \n",
    "        video_stream.download(output_path=save_path)\n",
    "        print(\"download complete\")\n",
    "        \n",
    "    except:\n",
    "        print(\"unable to download video\")\n",
    "    \n",
    "video_link=\"\"\n",
    "save_path=\"`\"\n",
    "\n",
    "video_download(video_link,save_path)"
   ]
  }
 ],
 "metadata": {
  "kernelspec": {
   "display_name": "Python 3 (ipykernel)",
   "language": "python",
   "name": "python3"
  },
  "language_info": {
   "codemirror_mode": {
    "name": "ipython",
    "version": 3
   },
   "file_extension": ".py",
   "mimetype": "text/x-python",
   "name": "python",
   "nbconvert_exporter": "python",
   "pygments_lexer": "ipython3",
   "version": "3.11.5"
  }
 },
 "nbformat": 4,
 "nbformat_minor": 5
}
